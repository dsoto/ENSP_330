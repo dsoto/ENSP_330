{
 "metadata": {
  "name": ""
 },
 "nbformat": 3,
 "nbformat_minor": 0,
 "worksheets": [
  {
   "cells": [
    {
     "cell_type": "markdown",
     "metadata": {},
     "source": [
      "# Class Date Generator\n",
      "\n",
      "This generates a list of potential class dates for a class that can be cut and pasted into a syllabus document."
     ]
    },
    {
     "cell_type": "code",
     "collapsed": false,
     "input": [
      "from dateutil import *\n",
      "from dateutil.rrule import *\n",
      "import datetime as dt\n",
      "format_string = '%A, %d %b %Y'"
     ],
     "language": "python",
     "metadata": {},
     "outputs": [],
     "prompt_number": 2
    },
    {
     "cell_type": "code",
     "collapsed": false,
     "input": [
      "first_day_of_instruction = dt.datetime(2013, 8, 20)\n",
      "last_day_of_instruction = dt.datetime(2013, 12, 6)\n",
      "\n",
      "holidays = (dt.datetime(2013, 9, 2),\n",
      "            dt.datetime(2013, 11, 11),\n",
      "            dt.datetime(2013, 11, 27),\n",
      "            dt.datetime(2013, 11, 28),\n",
      "            dt.datetime(2013, 11, 29)\n",
      "            )\n",
      "\n",
      "def print_lectures(dates, holidays):\n",
      "    lecture_number = 0\n",
      "    for d in dates:\n",
      "        if d not in holidays:\n",
      "            lecture_number += 1\n",
      "            print('## ' + str(lecture_number) + '. ' + d.strftime(format_string))"
     ],
     "language": "python",
     "metadata": {},
     "outputs": [],
     "prompt_number": 3
    },
    {
     "cell_type": "code",
     "collapsed": false,
     "input": [
      "\n",
      "dates = list(rrule(DAILY, \n",
      "                   byweekday=(TU, TH), \n",
      "                   dtstart=first_day_of_instruction, \n",
      "                   until=last_day_of_instruction))\n",
      "print_lectures(dates, holidays)"
     ],
     "language": "python",
     "metadata": {},
     "outputs": [
      {
       "output_type": "stream",
       "stream": "stdout",
       "text": [
        "## 1. Tuesday, 20 Aug 2013\n",
        "## 2. Thursday, 22 Aug 2013\n",
        "## 3. Tuesday, 27 Aug 2013\n",
        "## 4. Thursday, 29 Aug 2013\n",
        "## 5. Tuesday, 03 Sep 2013\n",
        "## 6. Thursday, 05 Sep 2013\n",
        "## 7. Tuesday, 10 Sep 2013\n",
        "## 8. Thursday, 12 Sep 2013\n",
        "## 9. Tuesday, 17 Sep 2013\n",
        "## 10. Thursday, 19 Sep 2013\n",
        "## 11. Tuesday, 24 Sep 2013\n",
        "## 12. Thursday, 26 Sep 2013\n",
        "## 13. Tuesday, 01 Oct 2013\n",
        "## 14. Thursday, 03 Oct 2013\n",
        "## 15. Tuesday, 08 Oct 2013\n",
        "## 16. Thursday, 10 Oct 2013\n",
        "## 17. Tuesday, 15 Oct 2013\n",
        "## 18. Thursday, 17 Oct 2013\n",
        "## 19. Tuesday, 22 Oct 2013\n",
        "## 20. Thursday, 24 Oct 2013\n",
        "## 21. Tuesday, 29 Oct 2013\n",
        "## 22. Thursday, 31 Oct 2013\n",
        "## 23. Tuesday, 05 Nov 2013\n",
        "## 24. Thursday, 07 Nov 2013\n",
        "## 25. Tuesday, 12 Nov 2013\n",
        "## 26. Thursday, 14 Nov 2013\n",
        "## 27. Tuesday, 19 Nov 2013\n",
        "## 28. Thursday, 21 Nov 2013\n",
        "## 29. Tuesday, 26 Nov 2013\n",
        "## 30. Tuesday, 03 Dec 2013\n",
        "## 31. Thursday, 05 Dec 2013\n"
       ]
      }
     ],
     "prompt_number": 4
    },
    {
     "cell_type": "code",
     "collapsed": false,
     "input": [],
     "language": "python",
     "metadata": {},
     "outputs": [],
     "prompt_number": 4
    }
   ],
   "metadata": {}
  }
 ]
}