{
 "metadata": {
  "name": ""
 },
 "nbformat": 3,
 "nbformat_minor": 0,
 "worksheets": [
  {
   "cells": [
    {
     "cell_type": "markdown",
     "metadata": {},
     "source": [
      "# Class Date Generator\n",
      "\n",
      "This generates a list of potential class dates for a class that can be cut and pasted into a syllabus document."
     ]
    },
    {
     "cell_type": "code",
     "collapsed": false,
     "input": [
      "from dateutil import *\n",
      "from dateutil.rrule import *\n",
      "import datetime as dt\n",
      "format_string = '%A, %d %b %Y'"
     ],
     "language": "python",
     "metadata": {},
     "outputs": [],
     "prompt_number": 2
    },
    {
     "cell_type": "code",
     "collapsed": false,
     "input": [
      "first_day_of_instruction = dt.datetime(2013, 8, 20)\n",
      "last_day_of_instruction = dt.datetime(2013, 12, 6)\n",
      "\n",
      "holidays = (dt.datetime(2013, 9, 2),\n",
      "            dt.datetime(2013, 11, 11),\n",
      "            dt.datetime(2013, 11, 27),\n",
      "            dt.datetime(2013, 11, 28),\n",
      "            dt.datetime(2013, 11, 29)\n",
      "            )\n",
      "\n",
      "\n",
      "def print_slides(dates, holidays):\n",
      "    lecture_number = 0\n",
      "    for d in dates:\n",
      "        if d not in holidays:\n",
      "            lecture_number += 1\n",
      "            filename = 'lecture-notes-%02d.md' % lecture_number\n",
      "            f = open(filename, 'w')\n",
      "            f.write('% Lecture ' + str(lecture_number) + ', ' + d.strftime(format_string) + '\\n')\n",
      "            f.write('% ENSP 330\\n')\n",
      "            f.write('% Professor Daniel Soto, Sonoma State University\\n\\n')\n",
      "            f.write('## Announcements\\n\\n')\n",
      "            f.write('## Upcoming Deadlines\\n\\n')\n",
      "            f.write('## Agenda')"
     ],
     "language": "python",
     "metadata": {},
     "outputs": [],
     "prompt_number": 3
    },
    {
     "cell_type": "code",
     "collapsed": false,
     "input": [
      "dates = list(rrule(DAILY, \n",
      "                   byweekday=(TU, TH), \n",
      "                   dtstart=first_day_of_instruction, \n",
      "                   until=last_day_of_instruction))\n",
      "print_slides(dates, holidays)"
     ],
     "language": "python",
     "metadata": {},
     "outputs": [],
     "prompt_number": 4
    },
    {
     "cell_type": "code",
     "collapsed": false,
     "input": [],
     "language": "python",
     "metadata": {},
     "outputs": [],
     "prompt_number": 4
    }
   ],
   "metadata": {}
  }
 ]
}