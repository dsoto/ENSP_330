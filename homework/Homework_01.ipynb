{
 "metadata": {
  "name": "Homework_01"
 },
 "nbformat": 3,
 "nbformat_minor": 0,
 "worksheets": [
  {
   "cells": [
    {
     "cell_type": "markdown",
     "metadata": {},
     "source": [
      "# ENSP 330 Homework 1\n",
      "\n",
      "Due Date: September 12, 2013\n",
      "\n",
      "<!--\n",
      "pedagogical goals\n",
      "- test back of envelope ability\n",
      "- show ability to convert units\n",
      "- find and interpret reliable sources of data\n",
      "- calculate overall efficiency from chain of efficiencies\n",
      "- understanding of energy conversion processes\n",
      "-->\n",
      "\n",
      "You may submit this assignment handwritten.  Clearly state your\n",
      "assumptions and cite your sources for any data not provided.\n",
      "\n",
      "\n",
      "1) Worldwide energy use.  Given worldwide energy consumption at 474 EJ\n",
      "   per year\n",
      "\n",
      "a) What is the volume of oil in barrels with this amount of chemical\n",
      "        energy.\n",
      "\n",
      "**Answer:**"
     ]
    },
    {
     "cell_type": "code",
     "collapsed": false,
     "input": [
      "global_energy = 474E18\n",
      "joules_per_barrel = 6.1E9  # wikipedia barrel of oil equivalent\n",
      "'%.3e' % (global_energy / joules_per_barrel) "
     ],
     "language": "python",
     "metadata": {},
     "outputs": [
      {
       "output_type": "pyout",
       "prompt_number": 5,
       "text": [
        "'7.770e+10'"
       ]
      }
     ],
     "prompt_number": 5
    },
    {
     "cell_type": "markdown",
     "metadata": {},
     "source": [
      "This is 77.7 billion barrels of oil each year."
     ]
    },
    {
     "cell_type": "markdown",
     "metadata": {},
     "source": [
      "b) How many kilograms of coal contain this much chemical energy?\n",
      "\n",
      "**Answer:**\n",
      "\n",
      "$$\\frac{474 \\cdot 10^{18} Joules}{}\\frac{1 kg\\ coal}{20 MJ}\\frac{1 MJ}{10^6 J}$$"
     ]
    },
    {
     "cell_type": "code",
     "collapsed": false,
     "input": [
      "coal_density_MJ_per_kg = 20.  \n",
      "joules_per_megajoule = 1E6\n",
      "'%.3e' % (global_energy / coal_density_MJ_per_kg / joules_per_megajoule)"
     ],
     "language": "python",
     "metadata": {},
     "outputs": [
      {
       "output_type": "pyout",
       "prompt_number": 8,
       "text": [
        "'2.370e+13'"
       ]
      }
     ],
     "prompt_number": 8
    },
    {
     "cell_type": "markdown",
     "metadata": {},
     "source": [
      "23.7 trillion kg of coal."
     ]
    },
    {
     "cell_type": "markdown",
     "metadata": {},
     "source": [
      "c) How many cubic feet of natural gas?"
     ]
    },
    {
     "cell_type": "markdown",
     "metadata": {},
     "source": [
      "$$\\frac{474 \\cdot 10^{18} Joules}{}\\frac{1 std\\ cu\\ ft\\ natural gas}{1.1 MJ}\\frac{1 MJ}{10^6 J}$$"
     ]
    },
    {
     "cell_type": "code",
     "collapsed": false,
     "input": [
      "natural_gas_density_MJ_std_cu_ft = 1.1\n",
      "'%.3e' % (global_energy / natural_gas_density_MJ_std_cu_ft / joules_per_megajoule)"
     ],
     "language": "python",
     "metadata": {},
     "outputs": [
      {
       "output_type": "pyout",
       "prompt_number": 9,
       "text": [
        "'4.309e+14'"
       ]
      }
     ],
     "prompt_number": 9
    },
    {
     "cell_type": "markdown",
     "metadata": {},
     "source": [
      "d) If solar panels are 18% efficient, how many square meters of\n",
      "    solar panels in an area with 6.0 kWh per square meter per day?\n",
      "\n",
      "**Answer:**\n",
      "\n",
      "One square meter of 18% efficient panels can turn the 6.0 kWh of energy per square meter per day into\n",
      "\n"
     ]
    },
    {
     "cell_type": "code",
     "collapsed": false,
     "input": [
      "6.0 * 0.18"
     ],
     "language": "python",
     "metadata": {},
     "outputs": [
      {
       "output_type": "pyout",
       "prompt_number": 10,
       "text": [
        "1.08"
       ]
      }
     ],
     "prompt_number": 10
    },
    {
     "cell_type": "markdown",
     "metadata": {},
     "source": [
      "1.08 kWh of electrical energy per day.  Per year we get"
     ]
    },
    {
     "cell_type": "code",
     "collapsed": false,
     "input": [
      "1.08 * 365"
     ],
     "language": "python",
     "metadata": {},
     "outputs": [
      {
       "output_type": "pyout",
       "prompt_number": 11,
       "text": [
        "394.20000000000005"
       ]
      }
     ],
     "prompt_number": 11
    },
    {
     "cell_type": "code",
     "collapsed": false,
     "input": [
      "So these solar panels yield 394 kWh of electrical energy per square meter per year"
     ],
     "language": "python",
     "metadata": {},
     "outputs": []
    },
    {
     "cell_type": "markdown",
     "metadata": {},
     "source": [
      "$$\\frac{474 \\cdot 10^{18} Joules}{1 year}\\frac{sq\\ meter\\ year}{394 kWh}\\frac{1 kWh}{3.6 \\cdot 10^6 J}$$"
     ]
    },
    {
     "cell_type": "code",
     "collapsed": false,
     "input": [
      "'%.3e' % (474 * 10**18 / 394 / 3.6e6)"
     ],
     "language": "python",
     "metadata": {},
     "outputs": [
      {
       "output_type": "pyout",
       "prompt_number": 23,
       "text": [
        "'3.342e+11'"
       ]
      }
     ],
     "prompt_number": 23
    },
    {
     "cell_type": "code",
     "collapsed": false,
     "input": [],
     "language": "python",
     "metadata": {},
     "outputs": []
    },
    {
     "cell_type": "markdown",
     "metadata": {},
     "source": [
      "2) Estimate the equivalent power transfer when fueling a car.  Consider\n",
      "a car with a 20 gallon gas tank.  Assume that it takes 3 minutes to fill\n",
      "the tank.\n",
      "\n",
      "    a) Calculate the rate at which gasoline flows (volume per time)"
     ]
    },
    {
     "cell_type": "code",
     "collapsed": false,
     "input": [
      "20 / 3 / 60 "
     ],
     "language": "python",
     "metadata": {},
     "outputs": [
      {
       "output_type": "pyout",
       "prompt_number": 18,
       "text": [
        "0.11111111111111112"
       ]
      }
     ],
     "prompt_number": 18
    },
    {
     "cell_type": "markdown",
     "metadata": {},
     "source": [
      "0.11 gallons per second.  "
     ]
    },
    {
     "cell_type": "markdown",
     "metadata": {},
     "source": [
      "b) Find the equivalent power transfer in units of watts\n",
      "\n",
      "**Answer**\n",
      "\n",
      "http://hypertextbook.com/facts/2003/ArthurGolnik.shtml\n",
      "\n",
      "gives gasoline at 1.3E8 joules per gallon"
     ]
    },
    {
     "cell_type": "code",
     "collapsed": false,
     "input": [
      "'%.3e' % (1.3e8 * 0.111)"
     ],
     "language": "python",
     "metadata": {},
     "outputs": [
      {
       "output_type": "pyout",
       "prompt_number": 22,
       "text": [
        "'1.443e+07'"
       ]
      }
     ],
     "prompt_number": 22
    },
    {
     "cell_type": "markdown",
     "metadata": {},
     "source": [
      "This is 14.4 megawatts.  "
     ]
    },
    {
     "cell_type": "markdown",
     "metadata": {},
     "source": [
      "c) How many hours during a disaster would this 20 gallons of\n",
      "    gasoline power a 1 kW household generator with 40% efficiency?"
     ]
    },
    {
     "cell_type": "markdown",
     "metadata": {},
     "source": [
      "20 gallons * 1.3E8 J per gallon / 3.6E6 J/kwh * 0.4"
     ]
    },
    {
     "cell_type": "code",
     "collapsed": false,
     "input": [
      "20 * 1.3e8 / 3.6e6 * 0.4"
     ],
     "language": "python",
     "metadata": {},
     "outputs": [
      {
       "output_type": "pyout",
       "prompt_number": 24,
       "text": [
        "288.88888888888886"
       ]
      }
     ],
     "prompt_number": 24
    },
    {
     "cell_type": "markdown",
     "metadata": {},
     "source": [
      "4) How much gasoline is saved by the average car today versus 20 years\n",
      "ago?  Use the CAFE standards for passenger cars.\n",
      "\n",
      "a) Find the average fuel efficiency for a U.S. vehicle in 2010 and\n",
      "    in 1990.\n"
     ]
    },
    {
     "cell_type": "markdown",
     "metadata": {},
     "source": [
      "**Answer:**\n",
      "\n",
      "http://en.wikipedia.org/wiki/Corporate_Average_Fuel_Economy\n",
      "\n",
      "1980 passenger car, 20.0\n",
      "1990 passenger car, 27.5\n",
      "2010 passenger car, 27.5\n",
      "\n"
     ]
    },
    {
     "cell_type": "code",
     "collapsed": false,
     "input": [
      "15000 / 20 * 3.5"
     ],
     "language": "python",
     "metadata": {},
     "outputs": [
      {
       "output_type": "pyout",
       "prompt_number": 25,
       "text": [
        "2625.0"
       ]
      }
     ],
     "prompt_number": 25
    },
    {
     "cell_type": "code",
     "collapsed": false,
     "input": [
      "15000 / 27.5 * 3.5"
     ],
     "language": "python",
     "metadata": {},
     "outputs": [
      {
       "output_type": "pyout",
       "prompt_number": 26,
       "text": [
        "1909.0909090909092"
       ]
      }
     ],
     "prompt_number": 26
    },
    {
     "cell_type": "code",
     "collapsed": false,
     "input": [
      "2625 - 1909"
     ],
     "language": "python",
     "metadata": {},
     "outputs": [
      {
       "output_type": "pyout",
       "prompt_number": 27,
       "text": [
        "716"
       ]
      }
     ],
     "prompt_number": 27
    },
    {
     "cell_type": "markdown",
     "metadata": {},
     "source": [
      "716 USD per year."
     ]
    },
    {
     "cell_type": "markdown",
     "metadata": {},
     "source": [
      "b) Assuming 15,000 miles per year and gasoline cost of 3.50 USD what\n",
      "    is the fuel savings between the two for a single vehicle?"
     ]
    },
    {
     "cell_type": "markdown",
     "metadata": {},
     "source": [
      "c) What is the fuel savings in U.S. dollars for the entire nation?"
     ]
    },
    {
     "cell_type": "markdown",
     "metadata": {},
     "source": [
      "**Answer:**\n",
      "\n",
      "http://www.businessinsider.com/vehicle-miles-driven-2013-2\n",
      "\n",
      "3.0 Trillion miles driven per year.  Assume CAFE milage\n",
      "\n"
     ]
    },
    {
     "cell_type": "code",
     "collapsed": false,
     "input": [
      "'%3.e' % (3E12 / (27.5 - 20) * 3.5)"
     ],
     "language": "python",
     "metadata": {},
     "outputs": [
      {
       "output_type": "pyout",
       "prompt_number": 31,
       "text": [
        "'1e+12'"
       ]
      }
     ],
     "prompt_number": 31
    },
    {
     "cell_type": "markdown",
     "metadata": {},
     "source": [
      "That's a trillion bucks."
     ]
    },
    {
     "cell_type": "markdown",
     "metadata": {},
     "source": [
      "5) \tEnergy Data.  Follow the link at the U.S. Energy Information\n",
      "Administration and use the chart there to answer the following\n",
      "questions.\n",
      "[http://www.eia.gov/totalenergy/data/annual/pecss_diagram.cfm](http://www.eia.gov/totalenergy/data/annual/pecss_diagram.cfm)\n",
      "\n",
      "\n",
      "    a) Convert the 2011 electric energy use from quadrillion Btu into kWh.\n",
      "\n",
      "    b) For each of the five supply sources shown, summarize their major\n",
      "    uses in one sentence.\n",
      "\n",
      "    c) What specific types of energy end uses do you imagine are included\n",
      "    in each of the four demand sectors?\n",
      "\n",
      "6) List as many as three possible topics for your research project this\n",
      "semester.\n",
      "\n",
      "\n",
      "\n",
      "7) Estimate to the nearest hour how much time you spent on this\n",
      "assignment."
     ]
    }
   ],
   "metadata": {}
  }
 ]
}